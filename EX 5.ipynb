{
 "cells": [
  {
   "cell_type": "code",
   "execution_count": null,
   "id": "070be986-ac22-4058-8f9a-a247dd552b91",
   "metadata": {},
   "outputs": [],
   "source": []
  }
 ],
 "metadata": {
  "kernelspec": {
   "display_name": "",
   "name": ""
  },
  "language_info": {
   "name": ""
  }
 },
 "nbformat": 4,
 "nbformat_minor": 5
}
